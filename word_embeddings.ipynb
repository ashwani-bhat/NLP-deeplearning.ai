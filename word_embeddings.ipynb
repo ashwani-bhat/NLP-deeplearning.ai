{
  "nbformat": 4,
  "nbformat_minor": 0,
  "metadata": {
    "colab": {
      "name": "word_embeddings.ipynb",
      "provenance": [],
      "authorship_tag": "ABX9TyMNupKR0LE7kHV6JfY+nhjA",
      "include_colab_link": true
    },
    "kernelspec": {
      "name": "python3",
      "display_name": "Python 3"
    }
  },
  "cells": [
    {
      "cell_type": "markdown",
      "metadata": {
        "id": "view-in-github",
        "colab_type": "text"
      },
      "source": [
        "<a href=\"https://colab.research.google.com/github/ashwani-bhat/NLP-deeplearning.ai/blob/master/word_embeddings.ipynb\" target=\"_parent\"><img src=\"https://colab.research.google.com/assets/colab-badge.svg\" alt=\"Open In Colab\"/></a>"
      ]
    },
    {
      "cell_type": "markdown",
      "metadata": {
        "id": "sO7tz899_x36",
        "colab_type": "text"
      },
      "source": [
        ""
      ]
    },
    {
      "cell_type": "code",
      "metadata": {
        "id": "p5oxewTDCmRz",
        "colab_type": "code",
        "colab": {}
      },
      "source": [
        "# !git clone https://github.com/ashwani-bhat/NLP-deeplearning.ai.git"
      ],
      "execution_count": 62,
      "outputs": []
    },
    {
      "cell_type": "code",
      "metadata": {
        "id": "KhwyVMsq9-b_",
        "colab_type": "code",
        "colab": {}
      },
      "source": [
        "# Run this cell to import packages.\n",
        "import pickle\n",
        "import numpy as np\n",
        "import pandas as pd\n",
        "import matplotlib.pyplot as plt\n",
        "plt.style.use('dark_background')"
      ],
      "execution_count": 63,
      "outputs": []
    },
    {
      "cell_type": "code",
      "metadata": {
        "id": "msXIm48iB_XV",
        "colab_type": "code",
        "colab": {}
      },
      "source": [
        "cwd = 'Natural Language Processing with Classification and Vector Spaces/Week 3/'"
      ],
      "execution_count": 64,
      "outputs": []
    },
    {
      "cell_type": "code",
      "metadata": {
        "id": "p_izp4bm9dPl",
        "colab_type": "code",
        "colab": {}
      },
      "source": [
        "def get_vectors(embeddings, words):\n",
        "    \"\"\"\n",
        "    Input:\n",
        "        embeddings: a word \n",
        "        fr_embeddings:\n",
        "        words: a list of words\n",
        "    Output: \n",
        "        X: a matrix where the rows are the embeddings corresponding to the rows on the list        \n",
        "    \"\"\"\n",
        "    m = len(words)\n",
        "    X = np.zeros((1, 300))\n",
        "    for word in words:\n",
        "        english = word\n",
        "        eng_emb = embeddings[english]\n",
        "        X = np.row_stack((X, eng_emb))\n",
        "    X = X[1:,:]\n",
        "    return X\n"
      ],
      "execution_count": 65,
      "outputs": []
    },
    {
      "cell_type": "code",
      "metadata": {
        "id": "5cjwt_KP9XYR",
        "colab_type": "code",
        "colab": {
          "base_uri": "https://localhost:8080/",
          "height": 204
        },
        "outputId": "b2dce1c7-9e91-4854-889e-a115f8a78df2"
      },
      "source": [
        "data = pd.read_csv(cwd + 'capitals.txt', delimiter=' ')\n",
        "data.columns = ['city1', 'country1', 'city2', 'country2']\n",
        "\n",
        "# print first five elements in the DataFrame\n",
        "data.head(5)"
      ],
      "execution_count": 66,
      "outputs": [
        {
          "output_type": "execute_result",
          "data": {
            "text/html": [
              "<div>\n",
              "<style scoped>\n",
              "    .dataframe tbody tr th:only-of-type {\n",
              "        vertical-align: middle;\n",
              "    }\n",
              "\n",
              "    .dataframe tbody tr th {\n",
              "        vertical-align: top;\n",
              "    }\n",
              "\n",
              "    .dataframe thead th {\n",
              "        text-align: right;\n",
              "    }\n",
              "</style>\n",
              "<table border=\"1\" class=\"dataframe\">\n",
              "  <thead>\n",
              "    <tr style=\"text-align: right;\">\n",
              "      <th></th>\n",
              "      <th>city1</th>\n",
              "      <th>country1</th>\n",
              "      <th>city2</th>\n",
              "      <th>country2</th>\n",
              "    </tr>\n",
              "  </thead>\n",
              "  <tbody>\n",
              "    <tr>\n",
              "      <th>0</th>\n",
              "      <td>Athens</td>\n",
              "      <td>Greece</td>\n",
              "      <td>Bangkok</td>\n",
              "      <td>Thailand</td>\n",
              "    </tr>\n",
              "    <tr>\n",
              "      <th>1</th>\n",
              "      <td>Athens</td>\n",
              "      <td>Greece</td>\n",
              "      <td>Beijing</td>\n",
              "      <td>China</td>\n",
              "    </tr>\n",
              "    <tr>\n",
              "      <th>2</th>\n",
              "      <td>Athens</td>\n",
              "      <td>Greece</td>\n",
              "      <td>Berlin</td>\n",
              "      <td>Germany</td>\n",
              "    </tr>\n",
              "    <tr>\n",
              "      <th>3</th>\n",
              "      <td>Athens</td>\n",
              "      <td>Greece</td>\n",
              "      <td>Bern</td>\n",
              "      <td>Switzerland</td>\n",
              "    </tr>\n",
              "    <tr>\n",
              "      <th>4</th>\n",
              "      <td>Athens</td>\n",
              "      <td>Greece</td>\n",
              "      <td>Cairo</td>\n",
              "      <td>Egypt</td>\n",
              "    </tr>\n",
              "  </tbody>\n",
              "</table>\n",
              "</div>"
            ],
            "text/plain": [
              "    city1 country1    city2     country2\n",
              "0  Athens   Greece  Bangkok     Thailand\n",
              "1  Athens   Greece  Beijing        China\n",
              "2  Athens   Greece   Berlin      Germany\n",
              "3  Athens   Greece     Bern  Switzerland\n",
              "4  Athens   Greece    Cairo        Egypt"
            ]
          },
          "metadata": {
            "tags": []
          },
          "execution_count": 66
        }
      ]
    },
    {
      "cell_type": "code",
      "metadata": {
        "id": "f23qgIvmEwBH",
        "colab_type": "code",
        "colab": {
          "base_uri": "https://localhost:8080/",
          "height": 34
        },
        "outputId": "afae8118-ea03-4fbf-c1fc-cacf4e104057"
      },
      "source": [
        "word_embeddings = pickle.load(open(cwd + \"utf-8''word_embeddings_subset.p\", \"rb\"))\n",
        "len(word_embeddings)  "
      ],
      "execution_count": 67,
      "outputs": [
        {
          "output_type": "execute_result",
          "data": {
            "text/plain": [
              "243"
            ]
          },
          "metadata": {
            "tags": []
          },
          "execution_count": 67
        }
      ]
    },
    {
      "cell_type": "code",
      "metadata": {
        "id": "GIPuqjy1_bLI",
        "colab_type": "code",
        "colab": {}
      },
      "source": [
        "def cosine_similarity(A, B):\n",
        "    '''\n",
        "    Input:\n",
        "        A: a numpy array which corresponds to a word vector\n",
        "        B: A numpy array which corresponds to a word vector\n",
        "    Output:\n",
        "        cos: numerical number representing the cosine similarity between A and B.\n",
        "    '''\n",
        "    \n",
        "    dot = np.dot(A, B)\n",
        "    norma = np.linalg.norm(A)\n",
        "    normb = np.linalg.norm(B)\n",
        "    cos = dot/(norma * normb)\n",
        "\n",
        "    return cos"
      ],
      "execution_count": 68,
      "outputs": []
    },
    {
      "cell_type": "code",
      "metadata": {
        "id": "gquOSfmf_bEl",
        "colab_type": "code",
        "colab": {}
      },
      "source": [
        "def euclidean(A, B):\n",
        "    \"\"\"\n",
        "    Input:\n",
        "        A: a numpy array which corresponds to a word vector\n",
        "        B: A numpy array which corresponds to a word vector\n",
        "    Output:\n",
        "        d: numerical number representing the Euclidean distance between A and B.\n",
        "    \"\"\"\n",
        "    # euclidean distance\n",
        "\n",
        "    d = np.linalg.norm(A - B)\n",
        "\n",
        "    return d\n"
      ],
      "execution_count": 69,
      "outputs": []
    },
    {
      "cell_type": "code",
      "metadata": {
        "id": "JnTzpEmV_omt",
        "colab_type": "code",
        "colab": {}
      },
      "source": [
        "def get_country(city1, country1, city2, embeddings):\n",
        "    \"\"\"\n",
        "    Input:\n",
        "        city1: a string (the capital city of country1)\n",
        "        country1: a string (the country of capital1)\n",
        "        city2: a string (the capital city of country2)\n",
        "        embeddings: a dictionary where the keys are words and values are their embeddings\n",
        "    Output:\n",
        "        countries: a dictionary with the most likely country and its similarity score\n",
        "    \"\"\"\n",
        "\n",
        "    # store the city1, country 1, and city 2 in a set called group\n",
        "    group = set((city1, country1, city2))\n",
        "\n",
        "    # get embeddings of city 1\n",
        "    city1_emb = embeddings[city1]\n",
        "\n",
        "    # get embedding of country 1\n",
        "    country1_emb = embeddings[country1]\n",
        "\n",
        "    # get embedding of city 2\n",
        "    city2_emb = embeddings[city2]\n",
        "\n",
        "    # get embedding of country 2 (it's a combination of the embeddings of country 1, city 1 and city 2)\n",
        "    # Remember: King - Man + Woman = Queen\n",
        "    vec = (country1_emb - city1_emb + city2_emb)\n",
        "\n",
        "    # Initialize the similarity to -1 (it will be replaced by a similarities that are closer to +1)\n",
        "    similarity = -1\n",
        "\n",
        "    # initialize country to an empty string\n",
        "    country = ''\n",
        "\n",
        "    # loop through all words in the embeddings dictionary\n",
        "    for word in embeddings.keys():\n",
        "\n",
        "        # first check that the word is not already in the 'group'\n",
        "        if word not in group:\n",
        "\n",
        "            # get the word embedding\n",
        "            word_emb = embeddings[word]\n",
        "\n",
        "            # calculate cosine similarity between embedding of country 2 and the word in the embeddings dictionary\n",
        "            cur_similarity = cosine_similarity(word_emb, vec)\n",
        "\n",
        "            # if the cosine similarity is more similar than the previously best similarity...\n",
        "            if cur_similarity > similarity:\n",
        "\n",
        "                # update the similarity to the new, better similarity\n",
        "                similarity = cur_similarity\n",
        "\n",
        "                # store the country as a tuple, which contains the word and the similarity\n",
        "                country = (word, similarity)\n",
        "\n",
        "    return country"
      ],
      "execution_count": 70,
      "outputs": []
    },
    {
      "cell_type": "code",
      "metadata": {
        "id": "ihSXK-VT_yaR",
        "colab_type": "code",
        "colab": {}
      },
      "source": [
        "def get_accuracy(word_embeddings, data):\n",
        "    '''\n",
        "    Input:\n",
        "        word_embeddings: a dictionary where the key is a word and the value is its embedding\n",
        "        data: a pandas dataframe containing all the country and capital city pairs\n",
        "    \n",
        "    Output:\n",
        "        accuracy: the accuracy of the model\n",
        "    '''\n",
        "    # initialize num correct to zero\n",
        "    num_correct = 0\n",
        "\n",
        "    # loop through the rows of the dataframe\n",
        "    for i, row in data.iterrows():\n",
        "\n",
        "        # get city1\n",
        "        city1 = row[0]\n",
        "        \n",
        "        # get country1\n",
        "        country1 = row[1]\n",
        "\n",
        "        # get city2\n",
        "        city2 =  row[2]\n",
        "\n",
        "        # get country2\n",
        "        country2 = row[3]\n",
        "\n",
        "        # use get_country to find the predicted country2\n",
        "        predicted_country2, _ = get_country(city1, country1, city2, word_embeddings)\n",
        "\n",
        "        # if the predicted country2 is the same as the actual country2...\n",
        "        if predicted_country2 == country2:\n",
        "            # increment the number of correct by 1\n",
        "            num_correct += 1\n",
        "\n",
        "    # get the number of rows in the data dataframe (length of dataframe)\n",
        "    m = len(data)\n",
        "\n",
        "    # calculate the accuracy by dividing the number correct by m\n",
        "    accuracy = num_correct / m\n",
        "\n",
        "    return accuracy\n"
      ],
      "execution_count": 71,
      "outputs": []
    },
    {
      "cell_type": "code",
      "metadata": {
        "id": "lFhWAcBi_6gN",
        "colab_type": "code",
        "colab": {
          "base_uri": "https://localhost:8080/",
          "height": 34
        },
        "outputId": "3f8efbe5-1ccd-466c-b081-2cbef0c98f33"
      },
      "source": [
        "accuracy = get_accuracy(word_embeddings, data)\n",
        "print(f\"Accuracy is {accuracy:.2f}\")"
      ],
      "execution_count": 72,
      "outputs": [
        {
          "output_type": "stream",
          "text": [
            "Accuracy is 0.92\n"
          ],
          "name": "stdout"
        }
      ]
    },
    {
      "cell_type": "code",
      "metadata": {
        "id": "eVevYutDABDu",
        "colab_type": "code",
        "colab": {}
      },
      "source": [
        "def compute_pca(X, n_components=2):\n",
        "    \"\"\"\n",
        "    Input:\n",
        "        X: of dimension (m,n) where each row corresponds to a word vector\n",
        "        n_components: Number of components you want to keep.\n",
        "    Output:\n",
        "        X_reduced: data transformed in 2 dims/columns + regenerated original data\n",
        "    \"\"\"\n",
        "\n",
        "    # mean center the data\n",
        "    X_demeaned = X - np.mean(X, axis = 0)\n",
        "    \n",
        "    # calculate the covariance matrix\n",
        "    covariance_matrix = np.cov(X_demeaned, rowvar = False)\n",
        "\n",
        "    # calculate eigenvectors & eigenvalues of the covariance matrix\n",
        "    eigen_vals, eigen_vecs = np.linalg.eigh(covariance_matrix)\n",
        "\n",
        "    # sort eigenvalue in increasing order (get the indices from the sort)\n",
        "    idx_sorted = np.argsort(eigen_vals)\n",
        "    \n",
        "    # reverse the order so that it's from highest to lowest.\n",
        "    idx_sorted_decreasing = idx_sorted[::-1]\n",
        "\n",
        "    # sort the eigen values by idx_sorted_decreasing\n",
        "    eigen_vals_sorted = eigen_vals[idx_sorted_decreasing]\n",
        "\n",
        "    # sort eigenvectors using the idx_sorted_decreasing indices\n",
        "    eigen_vecs_sorted = eigen_vecs[:, idx_sorted_decreasing]\n",
        "\n",
        "    # select the first n eigenvectors (n is desired dimension\n",
        "    # of rescaled data array, or dims_rescaled_data)\n",
        "    eigen_vecs_subset = eigen_vecs_sorted[:, :n_components]\n",
        "\n",
        "    # transform the data by multiplying the transpose of the eigenvectors \n",
        "    # with the transpose of the de-meaned data\n",
        "    # Then take the transpose of that product.\n",
        "    X_reduced = np.dot(eigen_vecs_subset.T, X_demeaned.T).T\n",
        "\n",
        "    return X_reduced\n"
      ],
      "execution_count": 76,
      "outputs": []
    },
    {
      "cell_type": "code",
      "metadata": {
        "id": "LYPf2HgmQQgE",
        "colab_type": "code",
        "colab": {
          "base_uri": "https://localhost:8080/",
          "height": 85
        },
        "outputId": "e86fff55-d5ea-4cee-d7ea-ba04b7106688"
      },
      "source": [
        "# Testing your function\n",
        "np.random.seed(1)\n",
        "X = np.random.rand(3, 10)\n",
        "X_reduced = compute_pca(X, n_components=2)\n",
        "print(\"Your original matrix was \" + str(X.shape) + \" and it became:\")\n",
        "print(X_reduced)"
      ],
      "execution_count": 79,
      "outputs": [
        {
          "output_type": "stream",
          "text": [
            "Your original matrix was (3, 10) and it became:\n",
            "[[ 0.43437323  0.49820384]\n",
            " [ 0.42077249 -0.50351448]\n",
            " [-0.85514571  0.00531064]]\n"
          ],
          "name": "stdout"
        }
      ]
    },
    {
      "cell_type": "code",
      "metadata": {
        "id": "GioZjUoIOIpm",
        "colab_type": "code",
        "colab": {
          "base_uri": "https://localhost:8080/",
          "height": 34
        },
        "outputId": "33abb7d1-81f7-4052-86bd-377f3391a826"
      },
      "source": [
        "words = ['oil', 'gas', 'happy', 'sad', 'city', 'town',\n",
        "         'village', 'country', 'continent', 'petroleum', 'joyful']\n",
        "\n",
        "# given a list of words and the embeddings, it returns a matrix with all the embeddings\n",
        "X = get_vectors(word_embeddings, words)\n",
        "\n",
        "print('You have 11 words each of 300 dimensions thus X.shape is:', X.shape)"
      ],
      "execution_count": 77,
      "outputs": [
        {
          "output_type": "stream",
          "text": [
            "You have 11 words each of 300 dimensions thus X.shape is: (11, 300)\n"
          ],
          "name": "stdout"
        }
      ]
    },
    {
      "cell_type": "code",
      "metadata": {
        "id": "KuFS3RtkONOO",
        "colab_type": "code",
        "colab": {
          "base_uri": "https://localhost:8080/",
          "height": 269
        },
        "outputId": "d00c6132-7179-442b-e458-a02d4b164280"
      },
      "source": [
        "# We have done the plotting for you. Just run this cell.\n",
        "result = compute_pca(X, 2)\n",
        "plt.scatter(result[:, 0], result[:, 1])\n",
        "for i, word in enumerate(words):\n",
        "    plt.annotate(word, xy=(result[i, 0] - 0.05, result[i, 1] + 0.1))\n",
        "\n",
        "plt.show()"
      ],
      "execution_count": 78,
      "outputs": [
        {
          "output_type": "display_data",
          "data": {
            "image/png": "[encoded data removed]",
            "text/plain": [
              "<Figure size 432x288 with 1 Axes>"
            ]
          },
          "metadata": {
            "tags": []
          }
        }
      ]
    },
    {
      "cell_type": "code",
      "metadata": {
        "id": "6_kfu8G-QK2r",
        "colab_type": "code",
        "colab": {}
      },
      "source": [
        ""
      ],
      "execution_count": null,
      "outputs": []
    }
  ]
}