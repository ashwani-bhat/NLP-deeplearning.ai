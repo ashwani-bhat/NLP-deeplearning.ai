{
  "nbformat": 4,
  "nbformat_minor": 0,
  "metadata": {
    "colab": {
      "name": "lecture_notebok.ipynb",
      "provenance": [],
      "authorship_tag": "ABX9TyNTNqOkEF+KMkxdonVfyW6q",
      "include_colab_link": true
    },
    "kernelspec": {
      "name": "python3",
      "display_name": "Python 3"
    }
  },
  "cells": [
    {
      "cell_type": "markdown",
      "metadata": {
        "id": "view-in-github",
        "colab_type": "text"
      },
      "source": [
        "<a href=\"https://colab.research.google.com/github/ashwani-bhat/NLP-deeplearning.ai/blob/master/lecture_notebok.ipynb\" target=\"_parent\"><img src=\"https://colab.research.google.com/assets/colab-badge.svg\" alt=\"Open In Colab\"/></a>"
      ]
    },
    {
      "cell_type": "markdown",
      "metadata": {
        "id": "p9Tewp_zvxwL",
        "colab_type": "text"
      },
      "source": [
        "#Numpy"
      ]
    },
    {
      "cell_type": "markdown",
      "metadata": {
        "id": "qiK72AJtyxnc",
        "colab_type": "text"
      },
      "source": [
        "This lets you know the difference between a numpy ndarray and a list. Also, some important functions in the numpy are discussed."
      ]
    },
    {
      "cell_type": "code",
      "metadata": {
        "id": "qRyw1fk_v0gL",
        "colab_type": "code",
        "colab": {}
      },
      "source": [
        "import numpy as np"
      ],
      "execution_count": null,
      "outputs": []
    },
    {
      "cell_type": "code",
      "metadata": {
        "id": "gpSNkDlTzRmi",
        "colab_type": "code",
        "colab": {
          "base_uri": "https://localhost:8080/",
          "height": 51
        },
        "outputId": "342f9ad2-a62d-443c-a30d-2ccd60efcb9e"
      },
      "source": [
        "alist = [1, 2, 3, 4, 5]   # Define a python list. It looks like an np array\n",
        "narray = np.array([1, 2, 3, 4]) # Define a numpy array\n",
        "print(type(alist))\n",
        "print(type(narray))"
      ],
      "execution_count": null,
      "outputs": [
        {
          "output_type": "stream",
          "text": [
            "<class 'list'>\n",
            "<class 'numpy.ndarray'>\n"
          ],
          "name": "stdout"
        }
      ]
    },
    {
      "cell_type": "code",
      "metadata": {
        "id": "6EpGsOqCzU6A",
        "colab_type": "code",
        "colab": {
          "base_uri": "https://localhost:8080/",
          "height": 51
        },
        "outputId": "2997900a-f9ef-4a53-fdc5-869fb95f9a86"
      },
      "source": [
        "# both works differently with '+'\n",
        "print(narray + narray)\n",
        "print(alist + alist)"
      ],
      "execution_count": null,
      "outputs": [
        {
          "output_type": "stream",
          "text": [
            "[2 4 6 8]\n",
            "[1, 2, 3, 4, 5, 1, 2, 3, 4, 5]\n"
          ],
          "name": "stdout"
        }
      ]
    },
    {
      "cell_type": "code",
      "metadata": {
        "id": "kObFYEpNzhBh",
        "colab_type": "code",
        "colab": {
          "base_uri": "https://localhost:8080/",
          "height": 51
        },
        "outputId": "724e7483-3669-417d-d92c-672a6d2c6d45"
      },
      "source": [
        "# similarly for '*'\n",
        "print(narray * 3)\n",
        "print(alist * 3)"
      ],
      "execution_count": null,
      "outputs": [
        {
          "output_type": "stream",
          "text": [
            "[ 3  6  9 12]\n",
            "[1, 2, 3, 4, 5, 1, 2, 3, 4, 5, 1, 2, 3, 4, 5]\n"
          ],
          "name": "stdout"
        }
      ]
    },
    {
      "cell_type": "code",
      "metadata": {
        "id": "XhLMIzxSznlI",
        "colab_type": "code",
        "colab": {
          "base_uri": "https://localhost:8080/",
          "height": 170
        },
        "outputId": "a2162e6e-1b26-4867-e534-72d3ead9c3fc"
      },
      "source": [
        "npmatrix1 = np.array([narray, narray, narray]) # Matrix initialized with NumPy arrays\n",
        "npmatrix2 = np.array([alist, alist, alist]) # Matrix initialized with lists\n",
        "npmatrix3 = np.array([narray, [1, 1, 1, 1], narray]) # Matrix initialized with both types\n",
        "\n",
        "print(npmatrix1)\n",
        "print(npmatrix2)\n",
        "print(npmatrix3)"
      ],
      "execution_count": null,
      "outputs": [
        {
          "output_type": "stream",
          "text": [
            "[[1 2 3 4]\n",
            " [1 2 3 4]\n",
            " [1 2 3 4]]\n",
            "[[1 2 3 4 5]\n",
            " [1 2 3 4 5]\n",
            " [1 2 3 4 5]]\n",
            "[[1 2 3 4]\n",
            " [1 1 1 1]\n",
            " [1 2 3 4]]\n"
          ],
          "name": "stdout"
        }
      ]
    },
    {
      "cell_type": "markdown",
      "metadata": {
        "id": "BLcZv-3nzrSF",
        "colab_type": "text"
      },
      "source": [
        "Make sure that the size of all rows are same in ndarray. Else, the functions may not work properly."
      ]
    },
    {
      "cell_type": "code",
      "metadata": {
        "id": "Pv7jHpmpzqDT",
        "colab_type": "code",
        "colab": {
          "base_uri": "https://localhost:8080/",
          "height": 119
        },
        "outputId": "1bb84a4b-7d2a-48aa-d41f-d89c55dcbd75"
      },
      "source": [
        "# Example 1:\n",
        "okmatrix = np.array([[1, 2], [3, 4]]) # Define a 2x2 matrix\n",
        "print(okmatrix) # Print okmatrix\n",
        "print(okmatrix * 2) # Print a scaled version of okmatrix\n",
        "\n",
        "# Example 2:\n",
        "badmatrix = np.array([[1, 2], [3, 4], [5, 6, 7]]) # Define a matrix. Note the third row contains 3 elements\n",
        "print(badmatrix) # Print the malformed matrix\n",
        "print(badmatrix * 2) # It is supposed to scale the whole matrix"
      ],
      "execution_count": null,
      "outputs": [
        {
          "output_type": "stream",
          "text": [
            "[[1 2]\n",
            " [3 4]]\n",
            "[[2 4]\n",
            " [6 8]]\n",
            "[list([1, 2]) list([3, 4]) list([5, 6, 7])]\n",
            "[list([1, 2, 1, 2]) list([3, 4, 3, 4]) list([5, 6, 7, 5, 6, 7])]\n"
          ],
          "name": "stdout"
        }
      ]
    },
    {
      "cell_type": "code",
      "metadata": {
        "id": "9wo6vE_d0rRr",
        "colab_type": "code",
        "colab": {
          "base_uri": "https://localhost:8080/",
          "height": 51
        },
        "outputId": "b47cadee-0d17-4c74-beb6-ee43dfa224b4"
      },
      "source": [
        "# Scale by 2 and translate 1 unit the matrix\n",
        "result = okmatrix * 2 + 1 # For each element in the matrix, multiply by 2 and add 1\n",
        "print(result)"
      ],
      "execution_count": null,
      "outputs": [
        {
          "output_type": "stream",
          "text": [
            "[[3 5]\n",
            " [7 9]]\n"
          ],
          "name": "stdout"
        }
      ]
    },
    {
      "cell_type": "code",
      "metadata": {
        "id": "WidSOQi70t9Y",
        "colab_type": "code",
        "colab": {
          "base_uri": "https://localhost:8080/",
          "height": 119
        },
        "outputId": "2c82da8b-ff23-4d26-f21c-ce821f243d5c"
      },
      "source": [
        "# Add two sum compatible matrices\n",
        "result1 = okmatrix + okmatrix\n",
        "print(result1)\n",
        "\n",
        "# Subtract two sum compatible matrices. This is called the difference vector\n",
        "result2 = okmatrix - okmatrix\n",
        "print(result2)\n",
        "\n",
        "result = okmatrix * okmatrix # Multiply each element by itself\n",
        "print(result)"
      ],
      "execution_count": null,
      "outputs": [
        {
          "output_type": "stream",
          "text": [
            "[[2 4]\n",
            " [6 8]]\n",
            "[[0 0]\n",
            " [0 0]]\n",
            "[[ 1  4]\n",
            " [ 9 16]]\n"
          ],
          "name": "stdout"
        }
      ]
    },
    {
      "cell_type": "code",
      "metadata": {
        "id": "4h3rvkAB00PZ",
        "colab_type": "code",
        "colab": {
          "base_uri": "https://localhost:8080/",
          "height": 357
        },
        "outputId": "930c731b-ea11-4629-9c48-b114b3b15b32"
      },
      "source": [
        "matrix3x2 = np.array([[1, 2], [3, 4], [5, 6]]) # Define a 3x2 matrix\n",
        "print('Original matrix 3 x 2')\n",
        "print(matrix3x2)\n",
        "print('Transposed matrix 2 x 3')\n",
        "print(matrix3x2.T)\n",
        "\n",
        "# transpose doesn't work for 1D ndarray \n",
        "nparray = np.array([1, 2, 3, 4]) # Define an array\n",
        "print('\\nOriginal array')\n",
        "print(nparray)\n",
        "print('Transposed array')\n",
        "print(nparray.T)\n",
        "\n",
        "# to do the transpose, make ndarray as 1x4\n",
        "nparray = np.array([[1, 2, 3, 4]]) # Define an array\n",
        "print('\\nOriginal array')\n",
        "print(nparray)\n",
        "print('Transposed array')\n",
        "print(nparray.T)"
      ],
      "execution_count": null,
      "outputs": [
        {
          "output_type": "stream",
          "text": [
            "Original matrix 3 x 2\n",
            "[[1 2]\n",
            " [3 4]\n",
            " [5 6]]\n",
            "Transposed matrix 2 x 3\n",
            "[[1 3 5]\n",
            " [2 4 6]]\n",
            "\n",
            "Original array\n",
            "[1 2 3 4]\n",
            "Transposed array\n",
            "[1 2 3 4]\n",
            "\n",
            "Original array\n",
            "[[1 2 3 4]]\n",
            "Transposed array\n",
            "[[1]\n",
            " [2]\n",
            " [3]\n",
            " [4]]\n"
          ],
          "name": "stdout"
        }
      ]
    },
    {
      "cell_type": "code",
      "metadata": {
        "id": "D3YQdR7l1LSK",
        "colab_type": "code",
        "colab": {
          "base_uri": "https://localhost:8080/",
          "height": 85
        },
        "outputId": "83a912bc-1973-4ebf-b7e2-2996e34c3b76"
      },
      "source": [
        "# Norm in ndarray\n",
        "nparray1 = np.array([1, 2, 3, 4]) # Define an array\n",
        "norm1 = np.linalg.norm(nparray1)\n",
        "\n",
        "nparray2 = np.array([[1, 2], [3, 4]]) # Define a 2 x 2 matrix. Note the 2 level of square brackets\n",
        "norm2 = np.linalg.norm(nparray2) \n",
        "\n",
        "print(norm1)\n",
        "print(norm2)\n",
        "\n",
        "# you can also perform norm by rows, or columns\n",
        "nparray2 = np.array([[1, 1], [2, 2], [3, 3]]) # Define a 3 x 2 matrix. \n",
        "\n",
        "normByCols = np.linalg.norm(nparray2, axis=0) # Get the norm for each column. Returns 2 elements\n",
        "normByRows = np.linalg.norm(nparray2, axis=1) # get the norm for each row. Returns 3 elements\n",
        "\n",
        "print(normByCols)\n",
        "print(normByRows)"
      ],
      "execution_count": null,
      "outputs": [
        {
          "output_type": "stream",
          "text": [
            "5.477225575051661\n",
            "5.477225575051661\n",
            "[3.74165739 3.74165739]\n",
            "[1.41421356 2.82842712 4.24264069]\n"
          ],
          "name": "stdout"
        }
      ]
    },
    {
      "cell_type": "code",
      "metadata": {
        "id": "bnImA9i11XgE",
        "colab_type": "code",
        "colab": {
          "base_uri": "https://localhost:8080/",
          "height": 85
        },
        "outputId": "d4625754-b3c8-42b8-e4d1-a9f094600d51"
      },
      "source": [
        "nparray1 = np.array([0, 1, 2, 3]) # Define an array\n",
        "nparray2 = np.array([4, 5, 6, 7]) # Define an array\n",
        "\n",
        "flavor1 = np.dot(nparray1, nparray2) # Recommended way\n",
        "print(flavor1)\n",
        "\n",
        "flavor2 = np.sum(nparray1 * nparray2) # Ok way\n",
        "print(flavor2)\n",
        "\n",
        "flavor3 = nparray1 @ nparray2         # Geeks way\n",
        "print(flavor3)\n",
        "\n",
        "# As you never should do:             # Noobs way\n",
        "flavor4 = 0\n",
        "for a, b in zip(nparray1, nparray2):\n",
        "    flavor4 += a * b\n",
        "    \n",
        "print(flavor4)"
      ],
      "execution_count": null,
      "outputs": [
        {
          "output_type": "stream",
          "text": [
            "38\n",
            "38\n",
            "38\n",
            "38\n"
          ],
          "name": "stdout"
        }
      ]
    },
    {
      "cell_type": "code",
      "metadata": {
        "id": "cVICf6Nz1i7w",
        "colab_type": "code",
        "colab": {
          "base_uri": "https://localhost:8080/",
          "height": 51
        },
        "outputId": "4927b555-fef4-4cc8-9aee-969c13ff3eb5"
      },
      "source": [
        "norm1 = np.dot(np.array([1, 2]), np.array([3, 4])) # Dot product on nparrays\n",
        "norm2 = np.dot([1, 2], [3, 4]) # Dot product on python lists\n",
        "\n",
        "print(norm1, '=', norm2 )\n",
        "print(np.array([1, 2]) @ np.array([2, 4]))   # @ only works with ndarrays"
      ],
      "execution_count": null,
      "outputs": [
        {
          "output_type": "stream",
          "text": [
            "11 = 11\n",
            "10\n"
          ],
          "name": "stdout"
        }
      ]
    },
    {
      "cell_type": "code",
      "metadata": {
        "id": "LFtX4KDF1nZF",
        "colab_type": "code",
        "colab": {
          "base_uri": "https://localhost:8080/",
          "height": 119
        },
        "outputId": "aef29c4b-37ec-4ab4-be41-fdd0be030852"
      },
      "source": [
        "nparray2 = np.array([[1, -1], [2, -2], [3, -3]]) # Define a 3 x 2 matrix. Chosen to be a matrix with 0 mean\n",
        "\n",
        "mean = np.mean(nparray2) # Get the mean for the whole matrix\n",
        "meanByCols = np.mean(nparray2, axis=0) # Get the mean for each column. Returns 2 elements\n",
        "meanByRows = np.mean(nparray2, axis=1) # get the mean for each row. Returns 3 elements\n",
        "\n",
        "print('Matrix mean: ')\n",
        "print(mean)\n",
        "print('Mean by columns: ')\n",
        "print(meanByCols)\n",
        "print('Mean by rows:')\n",
        "print(meanByRows)"
      ],
      "execution_count": null,
      "outputs": [
        {
          "output_type": "stream",
          "text": [
            "Matrix mean: \n",
            "0.0\n",
            "Mean by columns: \n",
            "[ 2. -2.]\n",
            "Mean by rows:\n",
            "[0. 0. 0.]\n"
          ],
          "name": "stdout"
        }
      ]
    },
    {
      "cell_type": "code",
      "metadata": {
        "id": "Zx1GAkKK1rW0",
        "colab_type": "code",
        "colab": {
          "base_uri": "https://localhost:8080/",
          "height": 187
        },
        "outputId": "054c743d-ec57-4a8a-b8e8-127161808c47"
      },
      "source": [
        "nparray2 = np.array([[1, 1], [2, 2], [3, 3]]) # Define a 3 x 2 matrix. \n",
        "\n",
        "nparrayCentered = nparray2 - np.mean(nparray2, axis=0) # Remove the mean for each column\n",
        "\n",
        "print('Original matrix')\n",
        "print(nparray2)\n",
        "print('Centered by columns matrix')\n",
        "print(nparrayCentered)\n",
        "\n",
        "print('New mean by column')\n",
        "print(nparrayCentered.mean(axis=0))"
      ],
      "execution_count": null,
      "outputs": [
        {
          "output_type": "stream",
          "text": [
            "Original matrix\n",
            "[[1 1]\n",
            " [2 2]\n",
            " [3 3]]\n",
            "Centered by columns matrix\n",
            "[[-1. -1.]\n",
            " [ 0.  0.]\n",
            " [ 1.  1.]]\n",
            "New mean by column\n",
            "[0. 0.]\n"
          ],
          "name": "stdout"
        }
      ]
    },
    {
      "cell_type": "markdown",
      "metadata": {
        "id": "pZVeIkCy1z8w",
        "colab_type": "text"
      },
      "source": [
        " This process does not apply for row centering. In such cases, consider transposing the matrix, centering by columns, and then transpose back the result. "
      ]
    },
    {
      "cell_type": "code",
      "metadata": {
        "id": "U3ycGEzn1vYV",
        "colab_type": "code",
        "colab": {
          "base_uri": "https://localhost:8080/",
          "height": 51
        },
        "outputId": "92b051f2-faa0-4fb6-f1d3-6f05dd490348"
      },
      "source": [
        "nparray2 = np.array([[1, 3], [2, 4], [3, 5]]) # Define a 3 x 2 matrix. \n",
        "\n",
        "mean1 = np.mean(nparray2) # Static way\n",
        "mean2 = nparray2.mean()   # Dynamic way\n",
        "\n",
        "print(mean1, ' == ', mean2)\n",
        "print(\"Always use the static way\")"
      ],
      "execution_count": null,
      "outputs": [
        {
          "output_type": "stream",
          "text": [
            "3.0  ==  3.0\n",
            "Always use the static way\n"
          ],
          "name": "stdout"
        }
      ]
    },
    {
      "cell_type": "markdown",
      "metadata": {
        "id": "q6gedBXL5zH7",
        "colab_type": "text"
      },
      "source": [
        "#PCA"
      ]
    },
    {
      "cell_type": "code",
      "metadata": {
        "id": "Hz3fhxmy2CJ2",
        "colab_type": "code",
        "colab": {}
      },
      "source": [
        "import numpy as np                         # Linear algebra library\n",
        "import matplotlib.pyplot as plt            # library for visualization\n",
        "from sklearn.decomposition import PCA      # PCA library\n",
        "import pandas as pd                        # Data frame library\n",
        "import math                                # Library for math functions\n",
        "import random                              # Library for pseudo random numbers\n",
        "plt.style.use(\"dark_background\")"
      ],
      "execution_count": 3,
      "outputs": []
    },
    {
      "cell_type": "code",
      "metadata": {
        "id": "55KrkPKB54VZ",
        "colab_type": "code",
        "colab": {
          "base_uri": "https://localhost:8080/",
          "height": 265
        },
        "outputId": "e096b9ce-f7b9-4c0c-a93f-fded49c8380e"
      },
      "source": [
        "n = 1  # The amount of the correlation\n",
        "x = np.random.uniform(1,2,1000) # Generate 1000 samples from a uniform random variable\n",
        "y = x.copy() * n # Make y = n * x\n",
        "\n",
        "# PCA works better if the data is centered\n",
        "x = x - np.mean(x) # Center x. Remove its mean\n",
        "y = y - np.mean(y) # Center y. Remove its mean\n",
        "\n",
        "data = pd.DataFrame({'x': x, 'y': y}) # Create a data frame with x and y\n",
        "plt.scatter(data.x, data.y) # Plot the original correlated data in blue\n",
        "\n",
        "pca = PCA(n_components=2) # Instantiate a PCA. Choose to get 2 output variables\n",
        "\n",
        "# Create the transformation model for this data. Internally, it gets the rotation \n",
        "# matrix and the explained variance\n",
        "pcaTr = pca.fit(data)\n",
        "\n",
        "rotatedData = pcaTr.transform(data) # Transform the data base on the rotation matrix of pcaTr\n",
        "# # Create a data frame with the new variables. We call these new variables PC1 and PC2\n",
        "dataPCA = pd.DataFrame(data = rotatedData, columns = ['PC1', 'PC2']) \n",
        "\n",
        "# Plot the transformed data in orange\n",
        "plt.scatter(dataPCA.PC1, dataPCA.PC2)\n",
        "plt.show()"
      ],
      "execution_count": 4,
      "outputs": [
        {
          "output_type": "display_data",
          "data": {
            "image/png": "[encoded data removed]",
            "text/plain": [
              "<Figure size 432x288 with 1 Axes>"
            ]
          },
          "metadata": {
            "tags": []
          }
        }
      ]
    },
    {
      "cell_type": "code",
      "metadata": {
        "id": "zixJlHPb57W2",
        "colab_type": "code",
        "colab": {
          "base_uri": "https://localhost:8080/",
          "height": 119
        },
        "outputId": "7e814812-0bf2-4841-dd27-53e0248955db"
      },
      "source": [
        "print('Eigenvectors or principal component: First row must be in the direction of [1, n] (Rotation Matrix)')\n",
        "print(pcaTr.components_)\n",
        "\n",
        "print()\n",
        "print('Eigenvalues or explained variance')\n",
        "print(pcaTr.explained_variance_)\n"
      ],
      "execution_count": 6,
      "outputs": [
        {
          "output_type": "stream",
          "text": [
            "Eigenvectors or principal component: First row must be in the direction of [1, n] (Rotation Matrix)\n",
            "[[ 0.70710678  0.70710678]\n",
            " [ 0.70710678 -0.70710678]]\n",
            "\n",
            "Eigenvalues or explained variance\n",
            "[1.64706158e-01 1.24858900e-32]\n"
          ],
          "name": "stdout"
        }
      ]
    },
    {
      "cell_type": "markdown",
      "metadata": {
        "id": "0XWJtDW87p56",
        "colab_type": "text"
      },
      "source": [
        "2 random variables with different variances and with a specific Covariance among them"
      ]
    },
    {
      "cell_type": "code",
      "metadata": {
        "id": "wZoyshlk698O",
        "colab_type": "code",
        "colab": {
          "base_uri": "https://localhost:8080/",
          "height": 333
        },
        "outputId": "bbbcb033-e0e6-4aff-ef3e-bc495b443ad6"
      },
      "source": [
        "import matplotlib.lines as mlines\n",
        "import matplotlib.transforms as mtransforms\n",
        "\n",
        "random.seed(100)\n",
        "\n",
        "std1 = 1     # The desired standard deviation of our first random variable\n",
        "std2 = 0.333 # The desired standard deviation of our second random variable\n",
        "\n",
        "x = np.random.normal(0, std1, 1000) # Get 1000 samples from x ~ N(0, std1)\n",
        "y = np.random.normal(0, std2, 1000)  # Get 1000 samples from y ~ N(0, std2)\n",
        "#y = y + np.random.normal(0,1,1000)*noiseLevel * np.sin(0.78)\n",
        "\n",
        "# PCA works better if the data is centered\n",
        "x = x - np.mean(x) # Center x \n",
        "y = y - np.mean(y) # Center y\n",
        "\n",
        "#Define a pair of dependent variables with a desired amount of covariance\n",
        "n = 1 # Magnitude of covariance. \n",
        "angle = np.arctan(1 / n) # Convert the covariance to and angle\n",
        "print('angle: ',  angle * 180 / math.pi)\n",
        "\n",
        "# Create a rotation matrix using the given angle\n",
        "rotationMatrix = np.array([[np.cos(angle), np.sin(angle)],\n",
        "                 [-np.sin(angle), np.cos(angle)]])\n",
        "\n",
        "\n",
        "print('rotationMatrix')\n",
        "print(rotationMatrix)\n",
        "\n",
        "xy = np.concatenate(([x] , [y]), axis=0).T # Create a matrix with columns x and y\n",
        "\n",
        "# Transform the data using the rotation matrix. It correlates the two variables\n",
        "data = np.dot(xy, rotationMatrix) # Return a nD array\n",
        "\n",
        "# Print the rotated data\n",
        "plt.scatter(data[:,0], data[:,1])\n",
        "plt.show()"
      ],
      "execution_count": 7,
      "outputs": [
        {
          "output_type": "stream",
          "text": [
            "angle:  45.0\n",
            "rotationMatrix\n",
            "[[ 0.70710678  0.70710678]\n",
            " [-0.70710678  0.70710678]]\n"
          ],
          "name": "stdout"
        },
        {
          "output_type": "display_data",
          "data": {
            "image/png": "[encoded data removed]",
            "text/plain": [
              "<Figure size 432x288 with 1 Axes>"
            ]
          },
          "metadata": {
            "tags": []
          }
        }
      ]
    },
    {
      "cell_type": "code",
      "metadata": {
        "id": "se3mHB-u7t1T",
        "colab_type": "code",
        "colab": {
          "base_uri": "https://localhost:8080/",
          "height": 68
        },
        "outputId": "409ab8a9-7bc2-469b-846b-2230e4dce056"
      },
      "source": [
        "print(xy.shape)\n",
        "print(rotationMatrix.shape)\n",
        "print(data.shape)"
      ],
      "execution_count": 12,
      "outputs": [
        {
          "output_type": "stream",
          "text": [
            "(1000, 2)\n",
            "(2, 2)\n",
            "(1000, 2)\n"
          ],
          "name": "stdout"
        }
      ]
    },
    {
      "cell_type": "code",
      "metadata": {
        "id": "ETR9k_Ur8B9p",
        "colab_type": "code",
        "colab": {
          "base_uri": "https://localhost:8080/",
          "height": 367
        },
        "outputId": "8e30e543-6da6-43e0-f71a-b0116dde6714"
      },
      "source": [
        "plt.scatter(data[:,0], data[:,1]) # Print the original data in blue\n",
        "\n",
        "# Apply PCA. In theory, the Eigenvector matrix must be the \n",
        "# inverse of the original rotationMatrix. \n",
        "pca = PCA(n_components=2)  # Instantiate a PCA. Choose to get 2 output variables\n",
        "\n",
        "# Create the transformation model for this data. Internally it gets the rotation \n",
        "# matrix and the explained variance\n",
        "pcaTr = pca.fit(data)\n",
        "\n",
        "# Create an array with the transformed data\n",
        "dataPCA = pcaTr.transform(data)\n",
        "\n",
        "print('Eigenvectors or principal component: First row must be in the direction of [1, n]')\n",
        "print(pcaTr.components_)\n",
        "\n",
        "print()\n",
        "print('Eigenvalues or explained variance')\n",
        "print(pcaTr.explained_variance_)\n",
        "\n",
        "# Print the rotated data\n",
        "plt.scatter(dataPCA[:,0], dataPCA[:,1])\n",
        "\n",
        "# Plot the first component axe. Use the explained variance to scale the vector\n",
        "plt.plot([0, rotationMatrix[0][0] * std1 * 3], [0, rotationMatrix[0][1] * std1 * 3], 'k-', color='red')\n",
        "# Plot the second component axe. Use the explained variance to scale the vector\n",
        "plt.plot([0, rotationMatrix[1][0] * std2 * 3], [0, rotationMatrix[1][1] * std2 * 3], 'k-', color='green')\n",
        "\n",
        "plt.show()"
      ],
      "execution_count": 13,
      "outputs": [
        {
          "output_type": "stream",
          "text": [
            "Eigenvectors or principal component: First row must be in the direction of [1, n]\n",
            "[[-0.69763456 -0.71645378]\n",
            " [ 0.71645378 -0.69763456]]\n",
            "\n",
            "Eigenvalues or explained variance\n",
            "[0.98133971 0.10761915]\n"
          ],
          "name": "stdout"
        },
        {
          "output_type": "display_data",
          "data": {
            "image/png": "[encoded data removed]",
            "text/plain": [
              "<Figure size 432x288 with 1 Axes>"
            ]
          },
          "metadata": {
            "tags": []
          }
        }
      ]
    },
    {
      "cell_type": "markdown",
      "metadata": {
        "id": "-4Lj8EXX8l6o",
        "colab_type": "text"
      },
      "source": [
        "The explanation of this chart is as follows:\n",
        "* The rotation matrix used to create our correlated variables took the original uncorrelated variables `x` and `y` and transformed them into the blue points.\n",
        "* The PCA transformation finds out the rotation matrix used to create our correlated variables (blue points). Using the PCA model to transform our data, puts back the variables as our original uncorrelated variables.\n",
        "* The explained Variance of the PCA is \n",
        "\n",
        "$$[1.0094, 0.1125] $$\n",
        "\n",
        "which is approximately\n",
        "\n",
        "$$[1, 0.333 * 0.333] = [std1^2, std2^2],$$\n",
        "\n",
        "the parameters of our original random variables x and y"
      ]
    },
    {
      "cell_type": "markdown",
      "metadata": {
        "id": "y5EBbap083o5",
        "colab_type": "text"
      },
      "source": [
        "Till now, PCA was used as a transformation tool, that transform the data from correlated to uncorrelated variables. PCA for dimensionality reduction will just take the dimensions having highest variances to make sure that that data is generalized pretty well."
      ]
    },
    {
      "cell_type": "code",
      "metadata": {
        "id": "RXmfjV3q8LU6",
        "colab_type": "code",
        "colab": {
          "base_uri": "https://localhost:8080/",
          "height": 265
        },
        "outputId": "7b1c2b18-28be-4152-df6b-9abf510272d0"
      },
      "source": [
        "nPoints = len(data)\n",
        "\n",
        "# Plot the original data in blue\n",
        "plt.scatter(data[:,0], data[:,1])\n",
        "\n",
        "#Plot the projection along the first component in orange\n",
        "plt.scatter(data[:,0], np.zeros(nPoints))\n",
        "\n",
        "#Plot the projection along the second component in green\n",
        "plt.scatter(np.zeros(nPoints), data[:,1])\n",
        "\n",
        "plt.show()"
      ],
      "execution_count": 15,
      "outputs": [
        {
          "output_type": "display_data",
          "data": {
            "image/png": "[encoded data removed]",
            "text/plain": [
              "<Figure size 432x288 with 1 Axes>"
            ]
          },
          "metadata": {
            "tags": []
          }
        }
      ]
    },
    {
      "cell_type": "markdown",
      "metadata": {
        "id": "KVav96Qc96MG",
        "colab_type": "text"
      },
      "source": [
        ""
      ]
    },
    {
      "cell_type": "code",
      "metadata": {
        "id": "dwVryTzu9RJI",
        "colab_type": "code",
        "colab": {}
      },
      "source": [
        ""
      ],
      "execution_count": null,
      "outputs": []
    }
  ]
}
