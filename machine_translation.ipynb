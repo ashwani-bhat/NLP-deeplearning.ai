{
  "nbformat": 4,
  "nbformat_minor": 0,
  "metadata": {
    "colab": {
      "name": "machine_translation.ipynb",
      "provenance": [],
      "authorship_tag": "ABX9TyN7SWcrn694agAxU8BwHgWu",
      "include_colab_link": true
    },
    "kernelspec": {
      "name": "python3",
      "display_name": "Python 3"
    }
  },
  "cells": [
    {
      "cell_type": "markdown",
      "metadata": {
        "id": "view-in-github",
        "colab_type": "text"
      },
      "source": [
        "<a href=\"https://colab.research.google.com/github/ashwani-bhat/NLP-deeplearning.ai/blob/master/machine_translation.ipynb\" target=\"_parent\"><img src=\"https://colab.research.google.com/assets/colab-badge.svg\" alt=\"Open In Colab\"/></a>"
      ]
    },
    {
      "cell_type": "markdown",
      "metadata": {
        "id": "Av4UBJ0jPlSd",
        "colab_type": "text"
      },
      "source": [
        "#Downloads and headers"
      ]
    },
    {
      "cell_type": "code",
      "metadata": {
        "id": "9QaAowhk7-jh",
        "colab_type": "code",
        "colab": {
          "base_uri": "https://localhost:8080/",
          "height": 0
        },
        "outputId": "96d74070-7236-4864-8cc5-ed3464c444fc"
      },
      "source": [
        "import nltk\n",
        "nltk.download('stopwords')\n",
        "nltk.download('twitter_samples')"
      ],
      "execution_count": 41,
      "outputs": [
        {
          "output_type": "stream",
          "text": [
            "[nltk_data] Downloading package stopwords to /root/nltk_data...\n",
            "[nltk_data]   Package stopwords is already up-to-date!\n",
            "[nltk_data] Downloading package twitter_samples to /root/nltk_data...\n",
            "[nltk_data]   Package twitter_samples is already up-to-date!\n"
          ],
          "name": "stdout"
        },
        {
          "output_type": "execute_result",
          "data": {
            "text/plain": [
              "True"
            ]
          },
          "metadata": {
            "tags": []
          },
          "execution_count": 41
        }
      ]
    },
    {
      "cell_type": "code",
      "metadata": {
        "id": "l2vC_l1EPyw9",
        "colab_type": "code",
        "colab": {}
      },
      "source": [
        "import pdb\n",
        "import pickle\n",
        "import string\n",
        "\n",
        "import time\n",
        "\n",
        "import gensim\n",
        "import matplotlib.pyplot as plt\n",
        "import nltk\n",
        "import numpy as np\n",
        "import scipy\n",
        "import sklearn\n",
        "from gensim.models import KeyedVectors\n",
        "from nltk.corpus import stopwords, twitter_samples\n",
        "from nltk.tokenize import TweetTokenizer"
      ],
      "execution_count": 42,
      "outputs": []
    },
    {
      "cell_type": "markdown",
      "metadata": {
        "id": "yUk_kt8VRThX",
        "colab_type": "text"
      },
      "source": [
        "#Preprocessing"
      ]
    },
    {
      "cell_type": "code",
      "metadata": {
        "id": "ruToaJmgP-ZB",
        "colab_type": "code",
        "colab": {}
      },
      "source": [
        "import re\n",
        "import string\n",
        "\n",
        "import numpy as np\n",
        "import pandas as pd\n",
        "from nltk.corpus import stopwords\n",
        "from nltk.stem import PorterStemmer\n",
        "from nltk.tokenize import TweetTokenizer\n",
        "\n",
        "\n",
        "def process_tweet(tweet):\n",
        "    '''\n",
        "    Input:\n",
        "        tweet: a string containing a tweet\n",
        "    Output:\n",
        "        tweets_clean: a list of words containing the processed tweet\n",
        "\n",
        "    '''\n",
        "    stemmer = PorterStemmer()\n",
        "    stopwords_english = stopwords.words('english')\n",
        "    # remove stock market tickers like $GE\n",
        "    tweet = re.sub(r'\\$\\w*', '', tweet)\n",
        "    # remove old style retweet text \"RT\"\n",
        "    tweet = re.sub(r'^RT[\\s]+', '', tweet)\n",
        "    # remove hyperlinks\n",
        "    tweet = re.sub(r'https?:\\/\\/.*[\\r\\n]*', '', tweet)\n",
        "    # remove hashtags\n",
        "    # only removing the hash # sign from the word\n",
        "    tweet = re.sub(r'#', '', tweet)\n",
        "    # tokenize tweets\n",
        "    tokenizer = TweetTokenizer(preserve_case=False, strip_handles=True,\n",
        "                               reduce_len=True)\n",
        "    tweet_tokens = tokenizer.tokenize(tweet)\n",
        "\n",
        "    tweets_clean = []\n",
        "    for word in tweet_tokens:\n",
        "        if (word not in stopwords_english and  # remove stopwords\n",
        "            word not in string.punctuation):  # remove punctuation\n",
        "            # tweets_clean.append(word)\n",
        "            stem_word = stemmer.stem(word)  # stemming word\n",
        "            tweets_clean.append(stem_word)\n",
        "\n",
        "    return tweets_clean\n",
        "\n",
        "\n",
        "def get_dict(file_name):\n",
        "    \"\"\"\n",
        "    This function returns the english to french dictionary given a file where the each column corresponds to a word.\n",
        "    Check out the files this function takes in your workspace.\n",
        "    \"\"\"\n",
        "    my_file = pd.read_csv(file_name, delimiter=' ')\n",
        "    etof = {}  # the english to french dictionary to be returned\n",
        "    for i in range(len(my_file)):\n",
        "        # indexing into the rows.\n",
        "        en = my_file.loc[i][0]\n",
        "        fr = my_file.loc[i][1]\n",
        "        etof[en] = fr\n",
        "\n",
        "    return etof\n",
        "\n",
        "\n",
        "def cosine_similarity(A, B):\n",
        "    '''\n",
        "    Input:\n",
        "        A: a numpy array which corresponds to a word vector\n",
        "        B: A numpy array which corresponds to a word vector\n",
        "    Output:\n",
        "        cos: numerical number representing the cosine similarity between A and B.\n",
        "    '''\n",
        "    # you have to set this variable to the true label.\n",
        "    cos = -10\n",
        "    dot = np.dot(A, B)\n",
        "    norma = np.linalg.norm(A)\n",
        "    normb = np.linalg.norm(B)\n",
        "    cos = dot / (norma * normb)\n",
        "\n",
        "    return cos\n"
      ],
      "execution_count": 43,
      "outputs": []
    },
    {
      "cell_type": "markdown",
      "metadata": {
        "id": "wn6h-rULRbR7",
        "colab_type": "text"
      },
      "source": [
        "#Translation"
      ]
    },
    {
      "cell_type": "code",
      "metadata": {
        "id": "cEml_C5yRaWj",
        "colab_type": "code",
        "colab": {}
      },
      "source": [
        "cwd = 'Natural Language Processing with Classification and Vector Spaces/Week 4/'"
      ],
      "execution_count": 44,
      "outputs": []
    },
    {
      "cell_type": "code",
      "metadata": {
        "id": "K_X8GCA9h3ap",
        "colab_type": "code",
        "colab": {}
      },
      "source": [
        "en_embeddings_subset = pickle.load(open(cwd + \"en_embeddings.p\", \"rb\"))\n",
        "fr_embeddings_subset = pickle.load(open(cwd + \"fr_embeddings.p\", \"rb\"))"
      ],
      "execution_count": 45,
      "outputs": []
    },
    {
      "cell_type": "code",
      "metadata": {
        "id": "BnHjA0EbiAB0",
        "colab_type": "code",
        "colab": {
          "base_uri": "https://localhost:8080/",
          "height": 51
        },
        "outputId": "1522ce02-3d28-4b9b-a30b-fae132260864"
      },
      "source": [
        "# loading the english to french dictionaries\n",
        "en_fr_train = get_dict(cwd + 'en-fr.train.txt')\n",
        "print('The length of the English to French training dictionary is', len(en_fr_train))\n",
        "en_fr_test = get_dict(cwd + 'en-fr.test.txt')\n",
        "print('The length of the English to French test dictionary is', len(en_fr_train))"
      ],
      "execution_count": 46,
      "outputs": [
        {
          "output_type": "stream",
          "text": [
            "The length of the English to French training dictionary is 5000\n",
            "The length of the English to French test dictionary is 5000\n"
          ],
          "name": "stdout"
        }
      ]
    },
    {
      "cell_type": "code",
      "metadata": {
        "id": "S0VPq0h_iZOk",
        "colab_type": "code",
        "colab": {}
      },
      "source": [
        "def get_matrices(en_fr, french_vecs, english_vecs):\n",
        "    \"\"\"\n",
        "    Input:\n",
        "        en_fr: English to French dictionary\n",
        "        french_vecs: French words to their corresponding word embeddings.\n",
        "        english_vecs: English words to their corresponding word embeddings.\n",
        "    Output: \n",
        "        X: a matrix where the columns are the English embeddings.\n",
        "        Y: a matrix where the columns correspong to the French embeddings.\n",
        "        R: the projection matrix that minimizes the F norm ||X R -Y||^2.\n",
        "    \"\"\"\n",
        "    # X_l and Y_l are lists of the english and french word embeddings\n",
        "    X_l = list()\n",
        "    Y_l = list()\n",
        "\n",
        "    # get the english words (the keys in the dictionary) and store in a set()\n",
        "    english_set = set(english_vecs.keys())\n",
        "\n",
        "    # get the french words (keys in the dictionary) and store in a set()\n",
        "    french_set = set(french_vecs.keys())\n",
        "\n",
        "    # store the french words that are part of the english-french dictionary (these are the values of the dictionary)\n",
        "    french_words = set(en_fr.values())\n",
        "\n",
        "    # loop through all english, french word pairs in the english french dictionary\n",
        "    for en_word, fr_word in en_fr.items():\n",
        "\n",
        "        # check that the french word has an embedding and that the english word has an embedding\n",
        "        if fr_word in french_set and en_word in english_set:\n",
        "\n",
        "            # get the english embedding\n",
        "            en_vec = english_vecs[en_word]\n",
        "\n",
        "            # get the french embedding\n",
        "            fr_vec = french_vecs[fr_word]\n",
        "\n",
        "            # add the english embedding to the list\n",
        "            X_l.append(en_vec)\n",
        "\n",
        "            # add the french embedding to the list\n",
        "            Y_l.append(fr_vec)\n",
        "\n",
        "    # stack the vectors of X_l into a matrix X\n",
        "    X = np.vstack(X_l)\n",
        "\n",
        "    # stack the vectors of Y_l into a matrix Y\n",
        "    Y = np.vstack(Y_l)\n",
        "\n",
        "    return X, Y\n"
      ],
      "execution_count": 47,
      "outputs": []
    },
    {
      "cell_type": "code",
      "metadata": {
        "id": "mu0O1uJgimJ4",
        "colab_type": "code",
        "colab": {
          "base_uri": "https://localhost:8080/",
          "height": 51
        },
        "outputId": "24922716-1a21-4c2d-91b3-89e8b5225e50"
      },
      "source": [
        "# getting the training set:\n",
        "X_train, Y_train = get_matrices(\n",
        "    en_fr_train, fr_embeddings_subset, en_embeddings_subset)\n",
        "print(X_train.shape)\n",
        "print(Y_train.shape)"
      ],
      "execution_count": 48,
      "outputs": [
        {
          "output_type": "stream",
          "text": [
            "(4932, 300)\n",
            "(4932, 300)\n"
          ],
          "name": "stdout"
        }
      ]
    },
    {
      "cell_type": "code",
      "metadata": {
        "id": "NG19bhFHiyHv",
        "colab_type": "code",
        "colab": {}
      },
      "source": [
        "def compute_loss(X, Y, R):\n",
        "    '''\n",
        "    Inputs: \n",
        "        X: a matrix of dimension (m,n) where the columns are the English embeddings.\n",
        "        Y: a matrix of dimension (m,n) where the columns correspong to the French embeddings.\n",
        "        R: a matrix of dimension (n,n) - transformation matrix from English to French vector space embeddings.\n",
        "    Outputs:\n",
        "        L: a matrix of dimension (m,n) - the value of the loss function for given X, Y and R.\n",
        "    '''\n",
        "    # m is the number of rows in X\n",
        "    m = X.shape[0]\n",
        "    \n",
        "    # diff is XR - Y\n",
        "    diff = np.dot(X, R) - Y\n",
        "\n",
        "    # diff_squared is the element-wise square of the difference\n",
        "    diff_squared = diff ** 2\n",
        "\n",
        "    # sum_diff_squared is the sum of the squared elements\n",
        "    sum_diff_squared = np.sum(diff_squared)\n",
        "\n",
        "    # loss i the sum_diff_squard divided by the number of examples (m)\n",
        "    loss = sum_diff_squared / m\n",
        "    return loss\n"
      ],
      "execution_count": 49,
      "outputs": []
    },
    {
      "cell_type": "code",
      "metadata": {
        "id": "wVwVfD2Ii492",
        "colab_type": "code",
        "colab": {}
      },
      "source": [
        "def compute_gradient(X, Y, R):\n",
        "    '''\n",
        "    Inputs: \n",
        "        X: a matrix of dimension (m,n) where the columns are the English embeddings.\n",
        "        Y: a matrix of dimension (m,n) where the columns correspong to the French embeddings.\n",
        "        R: a matrix of dimension (n,n) - transformation matrix from English to French vector space embeddings.\n",
        "    Outputs:\n",
        "        g: a matrix of dimension (n,n) - gradient of the loss function L for given X, Y and R.\n",
        "    '''\n",
        "    # m is the number of rows in X\n",
        "    m = X.shape[0]\n",
        "\n",
        "    # gradient is X^T(XR - Y) * 2/m\n",
        "    gradient = (2/m) * (np.dot(X.T, np.dot(X, R) - Y))\n",
        "    return gradient\n"
      ],
      "execution_count": 50,
      "outputs": []
    },
    {
      "cell_type": "code",
      "metadata": {
        "id": "_NpRGXVMi-wA",
        "colab_type": "code",
        "colab": {}
      },
      "source": [
        "def align_embeddings(X, Y, train_steps=100, learning_rate=0.0003):\n",
        "    '''\n",
        "    Inputs:\n",
        "        X: a matrix of dimension (m,n) where the columns are the English embeddings.\n",
        "        Y: a matrix of dimension (m,n) where the columns correspong to the French embeddings.\n",
        "        train_steps: positive int - describes how many steps will gradient descent algorithm do.\n",
        "        learning_rate: positive float - describes how big steps will  gradient descent algorithm do.\n",
        "    Outputs:\n",
        "        R: a matrix of dimension (n,n) - the projection matrix that minimizes the F norm ||X R -Y||^2\n",
        "    '''\n",
        "    np.random.seed(129)\n",
        "\n",
        "    # the number of columns in X is the number of dimensions for a word vector (e.g. 300)\n",
        "    # R is a square matrix with length equal to the number of dimensions in th  word embedding\n",
        "    R = np.random.rand(X.shape[1], X.shape[1])\n",
        "\n",
        "    for i in range(train_steps):\n",
        "        if i % 25 == 0:\n",
        "            print(f\"loss at iteration {i} is: {compute_loss(X, Y, R):.4f}\")\n",
        "        # use the function that you defined to compute the gradient\n",
        "        gradient = compute_gradient(X, Y, R)\n",
        "\n",
        "        # update R by subtracting the learning rate times gradient\n",
        "        R -= learning_rate * gradient\n",
        "    return R\n"
      ],
      "execution_count": 51,
      "outputs": []
    },
    {
      "cell_type": "code",
      "metadata": {
        "id": "HIB4dcQJjGL-",
        "colab_type": "code",
        "colab": {
          "base_uri": "https://localhost:8080/",
          "height": 289
        },
        "outputId": "5d1d25cc-8dc8-4d8b-80c2-0f9e4c1952e3"
      },
      "source": [
        "R_train = align_embeddings(X_train, Y_train, train_steps=400, learning_rate=0.8)"
      ],
      "execution_count": 52,
      "outputs": [
        {
          "output_type": "stream",
          "text": [
            "loss at iteration 0 is: 963.0146\n",
            "loss at iteration 25 is: 97.8292\n",
            "loss at iteration 50 is: 26.8329\n",
            "loss at iteration 75 is: 9.7893\n",
            "loss at iteration 100 is: 4.3776\n",
            "loss at iteration 125 is: 2.3281\n",
            "loss at iteration 150 is: 1.4480\n",
            "loss at iteration 175 is: 1.0338\n",
            "loss at iteration 200 is: 0.8251\n",
            "loss at iteration 225 is: 0.7145\n",
            "loss at iteration 250 is: 0.6534\n",
            "loss at iteration 275 is: 0.6185\n",
            "loss at iteration 300 is: 0.5981\n",
            "loss at iteration 325 is: 0.5858\n",
            "loss at iteration 350 is: 0.5782\n",
            "loss at iteration 375 is: 0.5735\n"
          ],
          "name": "stdout"
        }
      ]
    },
    {
      "cell_type": "code",
      "metadata": {
        "id": "n2rnpNVZjNff",
        "colab_type": "code",
        "colab": {}
      },
      "source": [
        "def nearest_neighbor(v, candidates, k=1):\n",
        "    \"\"\"\n",
        "    Input:\n",
        "      - v, the vector you are going find the nearest neighbor for\n",
        "      - candidates: a set of vectors where we will find the neighbors\n",
        "      - k: top k nearest neighbors to find\n",
        "    Output:\n",
        "      - k_idx: the indices of the top k closest vectors in sorted form\n",
        "    \"\"\"\n",
        "    similarity_l = []\n",
        "\n",
        "    # for each candidate vector...\n",
        "    for row in candidates:\n",
        "        # get the cosine similarity\n",
        "        cos_similarity = cosine_similarity(row, v)\n",
        "\n",
        "        # append the similarity to the list\n",
        "        similarity_l.append(cos_similarity)\n",
        "        \n",
        "    # sort the similarity list and get the indices of the sorted list\n",
        "    sorted_ids = np.argsort(similarity_l)[::-1]\n",
        "\n",
        "    # get the indices of the k most similar candidate vectors\n",
        "    k_idx = sorted_ids[:k][::-1]\n",
        "    return k_idx\n"
      ],
      "execution_count": 53,
      "outputs": []
    },
    {
      "cell_type": "code",
      "metadata": {
        "id": "W91h3Y08jS-S",
        "colab_type": "code",
        "colab": {}
      },
      "source": [
        "def test_vocabulary(X, Y, R):\n",
        "    '''\n",
        "    Input:\n",
        "        X: a matrix where the columns are the English embeddings.\n",
        "        Y: a matrix where the columns correspong to the French embeddings.\n",
        "        R: the transform matrix which translates word embeddings from\n",
        "        English to French word vector space.\n",
        "    Output:\n",
        "        accuracy: for the English to French capitals\n",
        "    '''\n",
        "    # The prediction is X times R\n",
        "    pred = np.dot(X, R)\n",
        "\n",
        "    # initialize the number correct to zero\n",
        "    num_correct = 0\n",
        "\n",
        "    # loop through each row in pred (each transformed embedding)\n",
        "    for i in range(len(pred)):\n",
        "        # get the index of the nearest neighbor of pred at row 'i'; also pass in the candidates in Y\n",
        "        pred_idx = nearest_neighbor(pred[i], Y, 1)\n",
        "\n",
        "        # if the index of the nearest neighbor equals the row of i... \\\n",
        "        if pred_idx == i:\n",
        "            # increment the number correct by 1.\n",
        "            num_correct += 1\n",
        "\n",
        "    # accuracy is the number correct divided by the number of rows in 'pred' (also number of rows in X)\n",
        "    accuracy = num_correct / X.shape[0]\n",
        "\n",
        "    return accuracy\n"
      ],
      "execution_count": 54,
      "outputs": []
    },
    {
      "cell_type": "code",
      "metadata": {
        "id": "dIG5mN5SjcoE",
        "colab_type": "code",
        "colab": {}
      },
      "source": [
        "X_val, Y_val = get_matrices(en_fr_test, fr_embeddings_subset, en_embeddings_subset)"
      ],
      "execution_count": 55,
      "outputs": []
    },
    {
      "cell_type": "code",
      "metadata": {
        "id": "oun29FCwjfBI",
        "colab_type": "code",
        "colab": {
          "base_uri": "https://localhost:8080/",
          "height": 34
        },
        "outputId": "4609ad68-07e8-4b1a-e533-de3ac649e4b4"
      },
      "source": [
        "acc = test_vocabulary(X_val, Y_val, R_train)  # this might take a minute or two\n",
        "print(f\"accuracy on test set is {acc:.3f}\")"
      ],
      "execution_count": 56,
      "outputs": [
        {
          "output_type": "stream",
          "text": [
            "accuracy on test set is 0.557\n"
          ],
          "name": "stdout"
        }
      ]
    },
    {
      "cell_type": "markdown",
      "metadata": {
        "id": "7o5zMGTxjxR_",
        "colab_type": "text"
      },
      "source": [
        "#Locality sensitive hashing and document search"
      ]
    },
    {
      "cell_type": "code",
      "metadata": {
        "id": "uGlfxoShjjTg",
        "colab_type": "code",
        "colab": {}
      },
      "source": [
        "# get the positive and negative tweets\n",
        "all_positive_tweets = twitter_samples.strings('positive_tweets.json')\n",
        "all_negative_tweets = twitter_samples.strings('negative_tweets.json')\n",
        "all_tweets = all_positive_tweets + all_negative_tweets"
      ],
      "execution_count": 57,
      "outputs": []
    },
    {
      "cell_type": "code",
      "metadata": {
        "id": "ldis9JaLkRt-",
        "colab_type": "code",
        "colab": {}
      },
      "source": [
        "def get_document_embedding(tweet, en_embeddings): \n",
        "    '''\n",
        "    Input:\n",
        "        - tweet: a string\n",
        "        - en_embeddings: a dictionary of word embeddings\n",
        "    Output:\n",
        "        - doc_embedding: sum of all word embeddings in the tweet\n",
        "    '''\n",
        "    doc_embedding = np.zeros(300)\n",
        "\n",
        "    # process the document into a list of words (process the tweet)\n",
        "    processed_doc = process_tweet(tweet)\n",
        "    for word in processed_doc:\n",
        "        # add the word embedding to the running total for the document embedding\n",
        "        doc_embedding += en_embeddings.get(word, 0)\n",
        "    return doc_embedding\n"
      ],
      "execution_count": 58,
      "outputs": []
    },
    {
      "cell_type": "code",
      "metadata": {
        "id": "tDOQ543Wqru6",
        "colab_type": "code",
        "colab": {}
      },
      "source": [
        "def get_document_vecs(all_docs, en_embeddings):\n",
        "    '''\n",
        "    Input:\n",
        "        - all_docs: list of strings - all tweets in our dataset.\n",
        "        - en_embeddings: dictionary with words as the keys and their embeddings as the values.\n",
        "    Output:\n",
        "        - document_vec_matrix: matrix of tweet embeddings.\n",
        "        - ind2Doc_dict: dictionary with indices of tweets in vecs as keys and their embeddings as the values.\n",
        "    '''\n",
        "\n",
        "    # the dictionary's key is an index (integer) that identifies a specific tweet\n",
        "    # the value is the document embedding for that document\n",
        "    ind2Doc_dict = {}\n",
        "\n",
        "    # this is list that will store the document vectors\n",
        "    document_vec_l = []\n",
        "\n",
        "    for i, doc in enumerate(all_docs):\n",
        "\n",
        "        # get the document embedding of the tweet\n",
        "        doc_embedding = get_document_embedding(doc, en_embeddings)\n",
        "\n",
        "        # save the document embedding into the ind2Tweet dictionary at index i\n",
        "        ind2Doc_dict[i] = doc_embedding\n",
        "\n",
        "        # append the document embedding to the list of document vectors\n",
        "        document_vec_l.append(doc_embedding)\n",
        "\n",
        "    # convert the list of document vectors into a 2D array (each row is a document vector)\n",
        "    document_vec_matrix = np.vstack(document_vec_l)\n",
        "\n",
        "    return document_vec_matrix, ind2Doc_dict\n"
      ],
      "execution_count": 59,
      "outputs": []
    },
    {
      "cell_type": "code",
      "metadata": {
        "id": "HSTcXrZFqzgQ",
        "colab_type": "code",
        "colab": {}
      },
      "source": [
        "document_vecs, ind2Tweet = get_document_vecs(all_tweets, en_embeddings_subset)"
      ],
      "execution_count": 60,
      "outputs": []
    },
    {
      "cell_type": "code",
      "metadata": {
        "id": "hn6R2Ejaq2wg",
        "colab_type": "code",
        "colab": {}
      },
      "source": [
        "my_tweet = 'i am sad'\n",
        "process_tweet(my_tweet)\n",
        "tweet_embedding = get_document_embedding(my_tweet, en_embeddings_subset)"
      ],
      "execution_count": 61,
      "outputs": []
    },
    {
      "cell_type": "code",
      "metadata": {
        "id": "t2NHZl9asCZP",
        "colab_type": "code",
        "colab": {
          "base_uri": "https://localhost:8080/",
          "height": 34
        },
        "outputId": "e0b4a756-dd02-4166-c3fd-8b84ec150536"
      },
      "source": [
        "idx = np.argmax(cosine_similarity(document_vecs, tweet_embedding))\n",
        "print(all_tweets[idx])"
      ],
      "execution_count": 62,
      "outputs": [
        {
          "output_type": "stream",
          "text": [
            "@zoeeylim sad sad sad kid :( it's ok I help you watch the match HAHAHAHAHA\n"
          ],
          "name": "stdout"
        }
      ]
    },
    {
      "cell_type": "code",
      "metadata": {
        "id": "rYGwak8VsHSc",
        "colab_type": "code",
        "colab": {
          "base_uri": "https://localhost:8080/",
          "height": 34
        },
        "outputId": "d99abd0d-8343-44e2-bca7-51f78efead08"
      },
      "source": [
        "N_VECS = len(all_tweets)       # This many vectors.\n",
        "N_DIMS = len(ind2Tweet[1])     # Vector dimensionality.\n",
        "print(f\"Number of vectors is {N_VECS} and each has {N_DIMS} dimensions.\")\n",
        "# The number of planes. We use log2(625) to have ~16 vectors/bucket.\n",
        "N_PLANES = 10\n",
        "# Number of times to repeat the hashing to improve the search.\n",
        "N_UNIVERSES = 25"
      ],
      "execution_count": 63,
      "outputs": [
        {
          "output_type": "stream",
          "text": [
            "Number of vectors is 10000 and each has 300 dimensions.\n"
          ],
          "name": "stdout"
        }
      ]
    },
    {
      "cell_type": "code",
      "metadata": {
        "id": "zhO9Kwj2sLaZ",
        "colab_type": "code",
        "colab": {}
      },
      "source": [
        "np.random.seed(0)\n",
        "planes_l = [np.random.normal(size=(N_DIMS, N_PLANES))\n",
        "            for _ in range(N_UNIVERSES)]"
      ],
      "execution_count": 64,
      "outputs": []
    },
    {
      "cell_type": "code",
      "metadata": {
        "id": "p3O8RJ2TsOll",
        "colab_type": "code",
        "colab": {}
      },
      "source": [
        "def hash_value_of_vector(v, planes):\n",
        "    \"\"\"Create a hash for a vector; hash_id says which random hash to use.\n",
        "    Input:\n",
        "        - v:  vector of tweet. It's dimension is (1, N_DIMS)\n",
        "        - planes: matrix of dimension (N_DIMS, N_PLANES) - the set of planes that divide up the region\n",
        "    Output:\n",
        "        - res: a number which is used as a hash for your vector\n",
        "\n",
        "    \"\"\"\n",
        "    # for the set of planes,\n",
        "    # calculate the dot product between the vector and the matrix containing the planes\n",
        "    # remember that planes has shape (300, 10)\n",
        "    # The dot product will have the shape (1,10)\n",
        "    dot_product = np.dot(v, planes)\n",
        "\n",
        "    # get the sign of the dot product (1,10) shaped vector\n",
        "    sign_of_dot_product = np.sign(dot_product)\n",
        "\n",
        "    # set h to be false (eqivalent to 0 when used in operations) if the sign is negative,\n",
        "    # and true (equivalent to 1) if the sign is positive (1,10) shaped vector\n",
        "    h = np.greater_equal(sign_of_dot_product, 0)\n",
        "\n",
        "    # remove extra un-used dimensions (convert this from a 2D to a 1D array)\n",
        "    h = np.squeeze(h)\n",
        "\n",
        "    # initialize the hash value to 0\n",
        "    hash_value = 0\n",
        "\n",
        "    n_planes = planes.shape[1]\n",
        "    for i in range(n_planes):\n",
        "        # increment the hash value by 2^i * h_i\n",
        "        hash_value += np.power(2, i) * h[i]\n",
        "    # cast hash_value as an integer\n",
        "    hash_value = int(hash_value)\n",
        "\n",
        "    return hash_value\n"
      ],
      "execution_count": 65,
      "outputs": []
    },
    {
      "cell_type": "code",
      "metadata": {
        "id": "-DnUObJVsYMi",
        "colab_type": "code",
        "colab": {}
      },
      "source": [
        "def make_hash_table(vecs, planes):\n",
        "    \"\"\"\n",
        "    Input:\n",
        "        - vecs: list of vectors to be hashed.\n",
        "        - planes: the matrix of planes in a single \"universe\", with shape (embedding dimensions, number of planes).\n",
        "    Output:\n",
        "        - hash_table: dictionary - keys are hashes, values are lists of vectors (hash buckets)\n",
        "        - id_table: dictionary - keys are hashes, values are list of vectors id's\n",
        "                            (it's used to know which tweet corresponds to the hashed vector)\n",
        "    \"\"\"\n",
        "    # number of planes is the number of columns in the planes matrix\n",
        "    num_of_planes =planes.shape[1]\n",
        "\n",
        "    # number of buckets is 2^(number of planes)\n",
        "    num_buckets = np.power(2, num_of_planes)\n",
        "\n",
        "    # create the hash table as a dictionary.\n",
        "    # Keys are integers (0,1,2.. number of buckets)\n",
        "    # Values are empty lists\n",
        "    hash_table = {i: [] for i in range(num_buckets)}\n",
        "\n",
        "    # create the id table as a dictionary.\n",
        "    # Keys are integers (0,1,2... number of buckets)\n",
        "    # Values are empty lists\n",
        "    id_table = {i: [] for i in range(num_buckets)}\n",
        "\n",
        "    # for each vector in 'vecs'\n",
        "    for i, v in enumerate(vecs):\n",
        "        # calculate the hash value for the vector\n",
        "        h = hash_value_of_vector(v, planes)\n",
        "\n",
        "        # store the vector into hash_table at key h,\n",
        "        # by appending the vector v to the list at key h\n",
        "        hash_table[h].append(v)\n",
        "\n",
        "        # store the vector's index 'i' (each document is given a unique integer 0,1,2...)\n",
        "        # the key is the h, and the 'i' is appended to the list at key h\n",
        "        id_table[h].append(i)\n",
        "\n",
        "    return hash_table, id_table\n"
      ],
      "execution_count": 66,
      "outputs": []
    },
    {
      "cell_type": "code",
      "metadata": {
        "id": "ZMmEhjr0soWF",
        "colab_type": "code",
        "colab": {
          "base_uri": "https://localhost:8080/",
          "height": 442
        },
        "outputId": "ad55d9b8-e74d-4137-b40d-a36d47f678a9"
      },
      "source": [
        "# Creating the hashtables\n",
        "hash_tables = []\n",
        "id_tables = []\n",
        "for universe_id in range(N_UNIVERSES):  # there are 25 hashes\n",
        "    print('working on hash universe #:', universe_id)\n",
        "    planes = planes_l[universe_id]\n",
        "    hash_table, id_table = make_hash_table(document_vecs, planes)\n",
        "    hash_tables.append(hash_table)\n",
        "    id_tables.append(id_table)"
      ],
      "execution_count": 67,
      "outputs": [
        {
          "output_type": "stream",
          "text": [
            "working on hash universe #: 0\n",
            "working on hash universe #: 1\n",
            "working on hash universe #: 2\n",
            "working on hash universe #: 3\n",
            "working on hash universe #: 4\n",
            "working on hash universe #: 5\n",
            "working on hash universe #: 6\n",
            "working on hash universe #: 7\n",
            "working on hash universe #: 8\n",
            "working on hash universe #: 9\n",
            "working on hash universe #: 10\n",
            "working on hash universe #: 11\n",
            "working on hash universe #: 12\n",
            "working on hash universe #: 13\n",
            "working on hash universe #: 14\n",
            "working on hash universe #: 15\n",
            "working on hash universe #: 16\n",
            "working on hash universe #: 17\n",
            "working on hash universe #: 18\n",
            "working on hash universe #: 19\n",
            "working on hash universe #: 20\n",
            "working on hash universe #: 21\n",
            "working on hash universe #: 22\n",
            "working on hash universe #: 23\n",
            "working on hash universe #: 24\n"
          ],
          "name": "stdout"
        }
      ]
    },
    {
      "cell_type": "code",
      "metadata": {
        "id": "AVo37CAQstQj",
        "colab_type": "code",
        "colab": {}
      },
      "source": [
        "def approximate_knn(doc_id, v, planes_l, k=1, num_universes_to_use=N_UNIVERSES):\n",
        "    \"\"\"Search for k-NN using hashes.\"\"\"\n",
        "    assert num_universes_to_use <= N_UNIVERSES\n",
        "\n",
        "    # Vectors that will be checked as possible nearest neighbor\n",
        "    vecs_to_consider_l = list()\n",
        "\n",
        "    # list of document IDs\n",
        "    ids_to_consider_l = list()\n",
        "\n",
        "    # create a set for ids to consider, for faster checking if a document ID already exists in the set\n",
        "    ids_to_consider_set = set()\n",
        "\n",
        "    # loop through the universes of planes\n",
        "    for universe_id in range(num_universes_to_use):\n",
        "\n",
        "        # get the set of planes from the planes_l list, for this particular universe_id\n",
        "        planes = planes_l[universe_id]\n",
        "\n",
        "        # get the hash value of the vector for this set of planes\n",
        "        hash_value = hash_value_of_vector(v, planes)\n",
        "\n",
        "        # get the hash table for this particular universe_id\n",
        "        hash_table = hash_tables[universe_id]\n",
        "\n",
        "        # get the list of document vectors for this hash table, where the key is the hash_value\n",
        "        document_vectors_l = hash_table[hash_value]\n",
        "\n",
        "        # get the id_table for this particular universe_id\n",
        "        id_table = id_tables[universe_id]\n",
        "\n",
        "        # get the subset of documents to consider as nearest neighbors from this id_table dictionary\n",
        "        new_ids_to_consider = id_table[hash_value]\n",
        "\n",
        "        # remove the id of the document that we're searching\n",
        "        if doc_id in new_ids_to_consider:\n",
        "            new_ids_to_consider.remove(doc_id)\n",
        "            print(f\"removed doc_id {doc_id} of input vector from new_ids_to_search\")\n",
        "\n",
        "        # loop through the subset of document vectors to consider\n",
        "        for i, new_id in enumerate(new_ids_to_consider):\n",
        "\n",
        "            # if the document ID is not yet in the set ids_to_consider...\n",
        "            if new_id not in ids_to_consider_set:\n",
        "                # access document_vectors_l list at index i to get the embedding\n",
        "                # then append it to the list of vectors to consider as possible nearest neighbors\n",
        "                document_vector_at_i = document_vectors_l[i]\n",
        "                vecs_to_consider_l.append(document_vector_at_i)\n",
        "\n",
        "                # append the new_id (the index for the document) to the list of ids to consider\n",
        "                ids_to_consider_l.append(new_id)\n",
        "\n",
        "                # also add the new_id to the set of ids to consider\n",
        "                # (use this to check if new_id is not already in the IDs to consider)\n",
        "                ids_to_consider_set.add(new_id)\n",
        "\n",
        "\n",
        "    # Now run k-NN on the smaller set of vecs-to-consider.\n",
        "    print(\"Fast considering %d vecs\" % len(vecs_to_consider_l))\n",
        "\n",
        "    # convert the vecs to consider set to a list, then to a numpy array\n",
        "    vecs_to_consider_arr = np.array(vecs_to_consider_l)\n",
        "\n",
        "    # call nearest neighbors on the reduced list of candidate vectors\n",
        "    nearest_neighbor_idx_l = nearest_neighbor(v, vecs_to_consider_arr, k=k)\n",
        "\n",
        "    # Use the nearest neighbor index list as indices into the ids to consider\n",
        "    # create a list of nearest neighbors by the document ids\n",
        "    nearest_neighbor_ids = [ids_to_consider_l[idx]\n",
        "                            for idx in nearest_neighbor_idx_l]\n",
        "\n",
        "    return nearest_neighbor_ids\n"
      ],
      "execution_count": 68,
      "outputs": []
    },
    {
      "cell_type": "code",
      "metadata": {
        "id": "MI98oNrhs0_L",
        "colab_type": "code",
        "colab": {}
      },
      "source": [
        "#document_vecs, ind2Tweet\n",
        "doc_id = 0\n",
        "doc_to_search = all_tweets[doc_id]\n",
        "vec_to_search = document_vecs[doc_id]"
      ],
      "execution_count": 69,
      "outputs": []
    },
    {
      "cell_type": "code",
      "metadata": {
        "id": "wCay1jDzs5US",
        "colab_type": "code",
        "colab": {
          "base_uri": "https://localhost:8080/",
          "height": 119
        },
        "outputId": "22e573f6-5bc0-4545-8465-00d2ecb6a5ea"
      },
      "source": [
        "nearest_neighbor_ids = approximate_knn(\n",
        "    doc_id, vec_to_search, planes_l, k=3, num_universes_to_use=5)"
      ],
      "execution_count": 70,
      "outputs": [
        {
          "output_type": "stream",
          "text": [
            "removed doc_id 0 of input vector from new_ids_to_search\n",
            "removed doc_id 0 of input vector from new_ids_to_search\n",
            "removed doc_id 0 of input vector from new_ids_to_search\n",
            "removed doc_id 0 of input vector from new_ids_to_search\n",
            "removed doc_id 0 of input vector from new_ids_to_search\n",
            "Fast considering 77 vecs\n"
          ],
          "name": "stdout"
        }
      ]
    },
    {
      "cell_type": "code",
      "metadata": {
        "id": "CUv5TN_Us-HX",
        "colab_type": "code",
        "colab": {
          "base_uri": "https://localhost:8080/",
          "height": 190
        },
        "outputId": "a32d3d5c-9ece-4d6f-d20d-acde678df3cf"
      },
      "source": [
        "print(f\"Nearest neighbors for document {doc_id}\")\n",
        "print(f\"Document contents: {doc_to_search}\")\n",
        "print(\"\")\n",
        "\n",
        "for neighbor_id in nearest_neighbor_ids:\n",
        "    print(f\"Nearest neighbor at document id {neighbor_id}\")\n",
        "    print(f\"document contents: {all_tweets[neighbor_id]}\")"
      ],
      "execution_count": 71,
      "outputs": [
        {
          "output_type": "stream",
          "text": [
            "Nearest neighbors for document 0\n",
            "Document contents: #FollowFriday @France_Inte @PKuchly57 @Milipol_Paris for being top engaged members in my community this week :)\n",
            "\n",
            "Nearest neighbor at document id 2140\n",
            "document contents: @PopsRamjet come one, every now and then is not so bad :)\n",
            "Nearest neighbor at document id 701\n",
            "document contents: With the top cutie of Bohol :) https://t.co/Jh7F6U46UB\n",
            "Nearest neighbor at document id 51\n",
            "document contents: #FollowFriday @France_Espana @reglisse_menthe @CCI_inter for being top engaged members in my community this week :)\n"
          ],
          "name": "stdout"
        }
      ]
    },
    {
      "cell_type": "code",
      "metadata": {
        "id": "6IzZuTystBxz",
        "colab_type": "code",
        "colab": {}
      },
      "source": [
        ""
      ],
      "execution_count": 71,
      "outputs": []
    }
  ]
}